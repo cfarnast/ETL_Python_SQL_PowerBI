{
 "cells": [
  {
   "cell_type": "code",
   "execution_count": 4,
   "metadata": {},
   "outputs": [
    {
     "name": "stdout",
     "output_type": "stream",
     "text": [
      "✅ Dataset limpio!\n"
     ]
    }
   ],
   "source": [
    "# 1. Carga de librerías y de los datos\n",
    "import pandas as pd\n",
    "import numpy as np\n",
    "\n",
    "df1 = pd.read_csv(\"ventas_farmacia_dirty.csv\", sep = ',')\n",
    "\n",
    "# 2. Manipulación de los datos\n",
    "df1.columns = df1.columns.str.strip()\n",
    "df1.columns = df1.columns.str.replace(\" \",\"_\")\n",
    "\n",
    "# 3. Transformación de los datos (Si bien los datos son Float, hay valores entre medio que pueden ser strings por lo que hay que forzar su transformacion a numérico)\n",
    "df1[\"Cantidad\"] = pd.to_numeric(df1[\"Cantidad\"], errors=\"coerce\")\n",
    "df1[\"Precio_Unitario\"] = pd.to_numeric(df1[\"Precio_Unitario\"], errors=\"coerce\")\n",
    "df1[\"Total_Venta\"] = pd.to_numeric(df1[\"Total_Venta\"], errors=\"coerce\")\n",
    "\n",
    "# 4. Segunda manipulación de los datos: Reemplazar valores nulos y 9999 por los cálculos correspondientes\n",
    "df1.loc[df1[\"Cantidad\"] == 9999, \"Cantidad\"] = df1[\"Total_Venta\"] / df1[\"Precio_Unitario\"]\n",
    "df1.loc[df1[\"Cantidad\"].isna(), \"Cantidad\"] = df1[\"Total_Venta\"] / df1[\"Precio_Unitario\"]\n",
    "df1.loc[df1[\"Total_Venta\"].isna(), \"Total_Venta\"] = df1[\"Cantidad\"] * df1[\"Precio_Unitario\"]\n",
    "df1.loc[df1[\"Precio_Unitario\"].isna(), \"Precio_Unitario\"] = df1[\"Total_Venta\"] / df1[\"Cantidad\"]\n",
    "df1['Fecha_Venta'] = pd.to_datetime(df1['Fecha_Venta'], format='%Y-%m-%d', errors = 'coerce')\n",
    "\n",
    "# 5. Eliminación de datos faltantes\n",
    "df1.dropna(subset = [\"Producto\", \"Cantidad\", \"Total_Venta\", \"Fecha_Venta\"], inplace = True)\n",
    "\n",
    "print(\"✅ Dataset limpio!\")\n"
   ]
  },
  {
   "cell_type": "code",
   "execution_count": 5,
   "metadata": {},
   "outputs": [
    {
     "name": "stdout",
     "output_type": "stream",
     "text": [
      "✅ Dataset limpio!\n"
     ]
    }
   ],
   "source": [
    "# 1. Carga de librerías y de los datos\n",
    "import pandas as pd\n",
    "import numpy as np\n",
    "\n",
    "df2 = pd.read_csv(\"ventas_farmacia_periodo2_dirty.csv\", sep = ',')\n",
    "\n",
    "# 2. Manipulación de los datos\n",
    "columns = [\"Fecha_Venta\", \"Local\", \"Producto\", \"Cantidad\", \"Precio_Unitario\", \"Total_Venta\"]\n",
    "df2.columns = columns\n",
    "df2.columns = df2.columns.str.strip()\n",
    "df2.columns = df2.columns.str.replace(\" \",\"_\")\n",
    "\n",
    "# 3. Transformación de los datos (Si bien los datos son Float, hay valores entre medio que pueden ser strings por lo que hay que forzar su transformacion a numérico)\n",
    "df2[\"Cantidad\"] = pd.to_numeric(df2[\"Cantidad\"], errors=\"coerce\")\n",
    "df2[\"Precio_Unitario\"] = pd.to_numeric(df2[\"Precio_Unitario\"], errors=\"coerce\")\n",
    "df2[\"Total_Venta\"] = pd.to_numeric(df2[\"Total_Venta\"], errors=\"coerce\")\n",
    "\n",
    "# 4. Segunda manipulación de los datos: Reemplazar valores nulos y 9999 por los cálculos correspondientes\n",
    "df2.loc[df2[\"Cantidad\"] == 9999, \"Cantidad\"] = df2[\"Total_Venta\"] / df2[\"Precio_Unitario\"]\n",
    "df2.loc[df2[\"Cantidad\"].isna(), \"Cantidad\"] = df2[\"Total_Venta\"] / df2[\"Precio_Unitario\"]\n",
    "df2.loc[df2[\"Total_Venta\"].isna(), \"Total_Venta\"] = df2[\"Cantidad\"] * df2[\"Precio_Unitario\"]\n",
    "df2.loc[df2[\"Precio_Unitario\"].isna(), \"Precio_Unitario\"] = df2[\"Total_Venta\"] / df2[\"Cantidad\"]\n",
    "df2['Fecha_Venta'] = pd.to_datetime(df2['Fecha_Venta'], format='%Y-%m-%d', errors = 'coerce')\n",
    "\n",
    "# 5. Eliminación de datos faltantes\n",
    "df2.dropna(subset = [\"Producto\", \"Cantidad\", \"Total_Venta\", \"Fecha_Venta\"], inplace = True)\n",
    "\n",
    "print(\"✅ Dataset limpio!\")\n"
   ]
  },
  {
   "cell_type": "code",
   "execution_count": 6,
   "metadata": {},
   "outputs": [
    {
     "name": "stdout",
     "output_type": "stream",
     "text": [
      "✅ Datasets concatenados!\n"
     ]
    }
   ],
   "source": [
    "df = pd.concat([df1, df2], ignore_index=True)\n",
    "print(\"✅ Datasets concatenados!\")"
   ]
  },
  {
   "cell_type": "code",
   "execution_count": null,
   "metadata": {},
   "outputs": [
    {
     "name": "stdout",
     "output_type": "stream",
     "text": [
      "✅ ETL completado con éxito en SQL Server con Windows Authentication\n"
     ]
    }
   ],
   "source": [
    "# Primero crear la base de datos y luego otorgar permisos para acceder a la base de datos y poder modificarla:\n",
    "# CREATE DATABASE farmacia;\n",
    "# GO\n",
    "# USE farmacia;\n",
    "# GO\n",
    "# CREATE USER [LIGHTNING\\Administrador] FOR LOGIN [LIGHTNING\\Administrador];\n",
    "# GO\n",
    "# ALTER ROLE db_owner ADD MEMBER [LIGHTNING\\Administrador];\n",
    "# GO\n",
    "from sqlalchemy import create_engine\n",
    "\n",
    "server = r\"LIGHTNING\\SQLEXPRESS\"\n",
    "database = \"farmacia\"\n",
    "\n",
    "# Conexión con Windows Authentication\n",
    "engine = create_engine(f\"mssql+pyodbc://@{server}/{database}?trusted_connection=yes&driver=ODBC+Driver+17+for+SQL+Server\")\n",
    "\n",
    "df.to_sql(\"ventas\", engine, if_exists=\"append\", index=False)\n",
    "\n",
    "print(\"✅ ETL completado con éxito en SQL Server con Windows Authentication\")\n"
   ]
  }
 ],
 "metadata": {
  "kernelspec": {
   "display_name": "Python 3",
   "language": "python",
   "name": "python3"
  },
  "language_info": {
   "codemirror_mode": {
    "name": "ipython",
    "version": 3
   },
   "file_extension": ".py",
   "mimetype": "text/x-python",
   "name": "python",
   "nbconvert_exporter": "python",
   "pygments_lexer": "ipython3",
   "version": "3.13.0"
  }
 },
 "nbformat": 4,
 "nbformat_minor": 2
}
